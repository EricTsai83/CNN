{
 "cells": [
  {
   "cell_type": "code",
   "execution_count": 1,
   "metadata": {},
   "outputs": [
    {
     "name": "stderr",
     "output_type": "stream",
     "text": [
      "/opt/conda/lib/python3.6/site-packages/h5py/__init__.py:36: FutureWarning: Conversion of the second argument of issubdtype from `float` to `np.floating` is deprecated. In future, it will be treated as `np.float64 == np.dtype(float).type`.\n",
      "  from ._conv import register_converters as _register_converters\n",
      "Using TensorFlow backend.\n"
     ]
    }
   ],
   "source": [
    "import os\n",
    "import numpy as np\n",
    "import pandas as pd\n",
    "\n",
    "from sklearn.model_selection import train_test_split\n",
    "from keras.preprocessing import image\n",
    "from keras.utils import np_utils, plot_model\n",
    "\n",
    "\n",
    "import cv2\n",
    "from glob import glob\n",
    "from sklearn.utils import shuffle\n",
    "from time import time\n",
    "\n",
    "\n",
    "import warnings\n",
    "warnings.filterwarnings('ignore')\n",
    "import tensorflow as tf\n",
    "import tensorflow.keras as keras\n",
    "from tensorflow.keras.preprocessing.image import ImageDataGenerator\n",
    "from tensorflow.keras.models import Sequential, load_model\n",
    "from tensorflow.keras.layers import Dense, Dropout, Activation, Flatten\n",
    "from tensorflow.keras.layers import Conv2D, MaxPooling2D, BatchNormalization, GlobalAveragePooling2D\n",
    "from tensorflow.keras.callbacks import EarlyStopping, ModelCheckpoint\n",
    "\n",
    "import matplotlib.pyplot as plt"
   ]
  },
  {
   "cell_type": "code",
   "execution_count": 2,
   "metadata": {},
   "outputs": [
    {
     "data": {
      "text/plain": [
       "['akane', 'rika', 'neru', 'yui', '.ipynb_checkpoints', 'risa']"
      ]
     },
     "execution_count": 2,
     "metadata": {},
     "output_type": "execute_result"
    }
   ],
   "source": [
    "# 查看類別資寮夾(label)\n",
    "os.listdir(\"./training_set\")[0:9]"
   ]
  },
  {
   "cell_type": "code",
   "execution_count": 3,
   "metadata": {},
   "outputs": [
    {
     "data": {
      "text/plain": [
       "['092.png',\n",
       " '073.png',\n",
       " '062.png',\n",
       " '100.png',\n",
       " '055.png',\n",
       " '087.png',\n",
       " '083.png',\n",
       " '082.png',\n",
       " '090.png']"
      ]
     },
     "execution_count": 3,
     "metadata": {},
     "output_type": "execute_result"
    }
   ],
   "source": [
    "# 查看類別資料夾裡的資料\n",
    "os.listdir(\"./training_set/akane\")[0:9]"
   ]
  },
  {
   "cell_type": "code",
   "execution_count": 4,
   "metadata": {},
   "outputs": [
    {
     "data": {
      "text/plain": [
       "['86B9F51B85.png',\n",
       " '65BF2008F2.png',\n",
       " 'F1FB9BD260.png',\n",
       " '4318710884.png',\n",
       " 'B9CA8A32DF.png',\n",
       " '538CFE6771.png',\n",
       " '40FD801394.png',\n",
       " '27C5695794.png',\n",
       " '8C15F15BFE.png']"
      ]
     },
     "execution_count": 4,
     "metadata": {},
     "output_type": "execute_result"
    }
   ],
   "source": [
    "os.listdir(\"./testing_set\")[0:9]"
   ]
  },
  {
   "cell_type": "code",
   "execution_count": 5,
   "metadata": {},
   "outputs": [
    {
     "data": {
      "text/html": [
       "<div>\n",
       "<style scoped>\n",
       "    .dataframe tbody tr th:only-of-type {\n",
       "        vertical-align: middle;\n",
       "    }\n",
       "\n",
       "    .dataframe tbody tr th {\n",
       "        vertical-align: top;\n",
       "    }\n",
       "\n",
       "    .dataframe thead th {\n",
       "        text-align: right;\n",
       "    }\n",
       "</style>\n",
       "<table border=\"1\" class=\"dataframe\">\n",
       "  <thead>\n",
       "    <tr style=\"text-align: right;\">\n",
       "      <th></th>\n",
       "      <th>classname</th>\n",
       "      <th>classnum</th>\n",
       "    </tr>\n",
       "  </thead>\n",
       "  <tbody>\n",
       "    <tr>\n",
       "      <th>0</th>\n",
       "      <td>rika</td>\n",
       "      <td>0</td>\n",
       "    </tr>\n",
       "    <tr>\n",
       "      <th>1</th>\n",
       "      <td>risa</td>\n",
       "      <td>1</td>\n",
       "    </tr>\n",
       "    <tr>\n",
       "      <th>2</th>\n",
       "      <td>yui</td>\n",
       "      <td>2</td>\n",
       "    </tr>\n",
       "    <tr>\n",
       "      <th>3</th>\n",
       "      <td>akane</td>\n",
       "      <td>3</td>\n",
       "    </tr>\n",
       "    <tr>\n",
       "      <th>4</th>\n",
       "      <td>neru</td>\n",
       "      <td>4</td>\n",
       "    </tr>\n",
       "  </tbody>\n",
       "</table>\n",
       "</div>"
      ],
      "text/plain": [
       "  classname  classnum\n",
       "0      rika         0\n",
       "1      risa         1\n",
       "2       yui         2\n",
       "3     akane         3\n",
       "4      neru         4"
      ]
     },
     "execution_count": 5,
     "metadata": {},
     "output_type": "execute_result"
    }
   ],
   "source": [
    "# 類別編碼\n",
    "pd.read_csv('./classmap.csv')[0:9]"
   ]
  },
  {
   "cell_type": "code",
   "execution_count": 6,
   "metadata": {},
   "outputs": [],
   "source": [
    "# target_label_file_name = 'classmap.csv'\n",
    "\n",
    "target_label_file_path = './classmap.csv'\n",
    "# Opening a file using \"with\" is as simple as: with open(filename) as file:\n",
    "# 在 f 資料夾讀一筆，則 .splitlines():返回一個包含各列作為元素的列表，然後 line.split(', ') 代表用 ', ' 分隔相鄰列表\n",
    "with open(target_label_file_path) as f:\n",
    "    all_lines = [line.split(',') for line in f.read().splitlines()]\n",
    "    \n",
    "all_lines = all_lines[1::]\n",
    "# 將list 換成dic的形式\n",
    "target_labels = dict()\n",
    "for line in all_lines:\n",
    "    target_class, target_label = line\n",
    "    target_labels[target_class] = target_label"
   ]
  },
  {
   "cell_type": "code",
   "execution_count": 7,
   "metadata": {},
   "outputs": [
    {
     "data": {
      "text/plain": [
       "{'rika': '0', 'risa': '1', 'yui': '2', 'akane': '3', 'neru': '4'}"
      ]
     },
     "execution_count": 7,
     "metadata": {},
     "output_type": "execute_result"
    }
   ],
   "source": [
    "target_labels"
   ]
  },
  {
   "cell_type": "markdown",
   "metadata": {},
   "source": [
    "# Training Data"
   ]
  },
  {
   "cell_type": "code",
   "execution_count": 8,
   "metadata": {},
   "outputs": [],
   "source": [
    "# 指定存放 train 資料集的資料夾\n",
    "train_dir = \"./training_set\"\n",
    "img_path_list = []\n",
    "img_class_list = []\n",
    "# 利用迴圈依序用字典的 key 找出該類別(key)的路徑，再透過 glob() 找出路徑下的所有文件，\n",
    "# 並透過迴圈每找到一個文件，就在 img_class_list 裡增加一個該類的的 label\n",
    "for key in target_labels.keys():\n",
    "    for file_path in glob('{}/{}/*.png'.format(train_dir, key)):     # glob: 返回所有匹配的文件路徑列表\n",
    "        img_class_list.append(target_labels[key])                    # {}.format() : 將()裡的東西，變成{}形式的字串\n",
    "        img_path_list.append(file_path)\n",
    "\n",
    "data_list = pd.DataFrame({'class': img_class_list, 'path': img_path_list})"
   ]
  },
  {
   "cell_type": "code",
   "execution_count": 9,
   "metadata": {},
   "outputs": [
    {
     "data": {
      "text/html": [
       "<div>\n",
       "<style scoped>\n",
       "    .dataframe tbody tr th:only-of-type {\n",
       "        vertical-align: middle;\n",
       "    }\n",
       "\n",
       "    .dataframe tbody tr th {\n",
       "        vertical-align: top;\n",
       "    }\n",
       "\n",
       "    .dataframe thead th {\n",
       "        text-align: right;\n",
       "    }\n",
       "</style>\n",
       "<table border=\"1\" class=\"dataframe\">\n",
       "  <thead>\n",
       "    <tr style=\"text-align: right;\">\n",
       "      <th></th>\n",
       "      <th>class</th>\n",
       "      <th>path</th>\n",
       "    </tr>\n",
       "  </thead>\n",
       "  <tbody>\n",
       "    <tr>\n",
       "      <th>0</th>\n",
       "      <td>0</td>\n",
       "      <td>./training_set/rika/092.png</td>\n",
       "    </tr>\n",
       "    <tr>\n",
       "      <th>1</th>\n",
       "      <td>0</td>\n",
       "      <td>./training_set/rika/073.png</td>\n",
       "    </tr>\n",
       "    <tr>\n",
       "      <th>2</th>\n",
       "      <td>0</td>\n",
       "      <td>./training_set/rika/062.png</td>\n",
       "    </tr>\n",
       "    <tr>\n",
       "      <th>3</th>\n",
       "      <td>0</td>\n",
       "      <td>./training_set/rika/055.png</td>\n",
       "    </tr>\n",
       "    <tr>\n",
       "      <th>4</th>\n",
       "      <td>0</td>\n",
       "      <td>./training_set/rika/087.png</td>\n",
       "    </tr>\n",
       "    <tr>\n",
       "      <th>5</th>\n",
       "      <td>0</td>\n",
       "      <td>./training_set/rika/083.png</td>\n",
       "    </tr>\n",
       "    <tr>\n",
       "      <th>6</th>\n",
       "      <td>0</td>\n",
       "      <td>./training_set/rika/082.png</td>\n",
       "    </tr>\n",
       "    <tr>\n",
       "      <th>7</th>\n",
       "      <td>0</td>\n",
       "      <td>./training_set/rika/090.png</td>\n",
       "    </tr>\n",
       "    <tr>\n",
       "      <th>8</th>\n",
       "      <td>0</td>\n",
       "      <td>./training_set/rika/047.png</td>\n",
       "    </tr>\n",
       "    <tr>\n",
       "      <th>9</th>\n",
       "      <td>0</td>\n",
       "      <td>./training_set/rika/023.png</td>\n",
       "    </tr>\n",
       "  </tbody>\n",
       "</table>\n",
       "</div>"
      ],
      "text/plain": [
       "  class                         path\n",
       "0     0  ./training_set/rika/092.png\n",
       "1     0  ./training_set/rika/073.png\n",
       "2     0  ./training_set/rika/062.png\n",
       "3     0  ./training_set/rika/055.png\n",
       "4     0  ./training_set/rika/087.png\n",
       "5     0  ./training_set/rika/083.png\n",
       "6     0  ./training_set/rika/082.png\n",
       "7     0  ./training_set/rika/090.png\n",
       "8     0  ./training_set/rika/047.png\n",
       "9     0  ./training_set/rika/023.png"
      ]
     },
     "execution_count": 9,
     "metadata": {},
     "output_type": "execute_result"
    }
   ],
   "source": [
    "data_list.head(10)"
   ]
  },
  {
   "cell_type": "code",
   "execution_count": 10,
   "metadata": {},
   "outputs": [],
   "source": [
    "# 改成list 形式 ，才能當 for 迴圈的 index\n",
    "img_paths_list = data_list['path']\n",
    "img_labels_list = data_list['class']\n",
    "train_img_paths, valid_img_paths, y_train, y_valid = train_test_split(img_paths_list, img_labels_list, test_size=0.1)"
   ]
  },
  {
   "cell_type": "code",
   "execution_count": 11,
   "metadata": {},
   "outputs": [
    {
     "name": "stdout",
     "output_type": "stream",
     "text": [
      "Some training samples:\n",
      "----------------------\n",
      "485    ./training_set/neru/028.png\n",
      "154    ./training_set/risa/064.png\n",
      "113    ./training_set/risa/045.png\n",
      "11     ./training_set/rika/051.png\n",
      "95     ./training_set/rika/080.png\n",
      "Name: path, dtype: object\n",
      "\n",
      "Some training labels:\n",
      "---------------------\n",
      "485    4\n",
      "154    1\n",
      "113    1\n",
      "11     0\n",
      "95     0\n",
      "Name: class, dtype: object\n",
      "\n",
      "Some validation samples:\n",
      "------------------------\n",
      "45     ./training_set/rika/008.png\n",
      "13     ./training_set/rika/094.png\n",
      "29     ./training_set/rika/071.png\n",
      "492    ./training_set/neru/039.png\n",
      "120    ./training_set/risa/081.png\n",
      "Name: path, dtype: object\n",
      "\n",
      "Some validation labels:\n",
      "-----------------------\n",
      "45     0\n",
      "13     0\n",
      "29     0\n",
      "492    4\n",
      "120    1\n",
      "Name: class, dtype: object\n"
     ]
    }
   ],
   "source": [
    "print('Some training samples:\\n----------------------')\n",
    "print(train_img_paths.head())\n",
    "\n",
    "print('\\nSome training labels:\\n---------------------')\n",
    "print(y_train.head())\n",
    "\n",
    "print('\\nSome validation samples:\\n------------------------')\n",
    "print(valid_img_paths.head())\n",
    "\n",
    "print('\\nSome validation labels:\\n-----------------------')\n",
    "print(y_valid.head())"
   ]
  },
  {
   "cell_type": "markdown",
   "metadata": {},
   "source": [
    "# keras"
   ]
  },
  {
   "cell_type": "code",
   "execution_count": 12,
   "metadata": {},
   "outputs": [],
   "source": [
    "num_classes = 5 #label 的類別數\n",
    "epochs = 100\n",
    "batch_size = 32\n",
    "\n",
    "img_size = 224"
   ]
  },
  {
   "cell_type": "code",
   "execution_count": 13,
   "metadata": {},
   "outputs": [],
   "source": [
    "def load_data(Gray2RGB= False, mean_proc=False, img_size=img_size, test_data = True):\n",
    "    \n",
    "#         \"\"\" Split the list into training set and validation set \"\"\"\n",
    "    \n",
    "    X_train = []\n",
    "    for path in train_img_paths:\n",
    "        img = cv2.imread(path, 0)   # 讀取圖檔，後面的 0 代表讀取圖檔為灰階形式\n",
    "        img = cv2.resize(img, (img_size, img_size))\n",
    "        \n",
    "        if Gray2RGB == True:        # 灰階轉 RGB 檔\n",
    "            img = cv2.cvtColor(img, cv2.COLOR_GRAY2RGB)\n",
    "        \n",
    "        img = img.astype(np.float32) #將圖片轉成數字\n",
    "            \n",
    "        # 平均數處理    \n",
    "        if mean_proc == 'VGG16_ImageNet':\n",
    "            img = img - np.array([123.68, 116.779, 103.939]) # RGB channel 的平均數(官方給的)\n",
    "            img = img[:,:,::-1]  # RGB 轉為 BGR， 因為 pre-train 好的 model，channel 為 BGR\n",
    "            img = (img - np.min(img)) / np.max(img)\n",
    "        if mean_proc == 'DenseNet':\n",
    "            img /= 255.\n",
    "            mean = [0.485, 0.456, 0.406]\n",
    "            std = [0.229, 0.224, 0.225]\n",
    "            img = (img - mean) / std\n",
    "        else:\n",
    "            img /= 255.\n",
    "            img -= 0.5\n",
    "            img *= 2.\n",
    "            \n",
    "        X_train.append(img)\n",
    "    X_train = np.array(X_train, dtype=np.float32)\n",
    "    \n",
    "    X_valid = []\n",
    "    if test_data == True:\n",
    "        for path in valid_img_paths:\n",
    "            img = cv2.imread(path, 0)\n",
    "            img = cv2.resize(img, (img_size, img_size))\n",
    "\n",
    "            if Gray2RGB == True:\n",
    "                img = cv2.cvtColor(img,cv2.COLOR_GRAY2RGB)\n",
    "            \n",
    "            img = img.astype(np.float32)\n",
    "            \n",
    "            if mean_proc == 'VGG16_ImageNet':\n",
    "                img = img - np.array([123.68, 116.779, 103.939])\n",
    "                img = img[:,:,::-1]  # RGB to BGR\n",
    "                img = (img - np.min(img)) / np.max(img)\n",
    "            if mean_proc == 'DenseNet':\n",
    "                img /= 255.\n",
    "                mean = [0.485, 0.456, 0.406]\n",
    "                std = [0.229, 0.224, 0.225]\n",
    "                img = (img - mean) / std\n",
    "            else:\n",
    "                img /= 255.\n",
    "                img -= 0.5\n",
    "                img *= 2.\n",
    "            X_valid.append(img)\n",
    "    X_valid = np.array(X_valid, dtype=np.float32)\n",
    "    \n",
    "    if Gray2RGB == False:\n",
    "        X_train = np.reshape(X_train, X_train.shape+(1,))  # .shape+(1,) : 多加一個維度且數目是 1，為了顯示 channel 為一\n",
    "        X_valid = np.reshape(X_valid, X_valid.shape+(1,))\n",
    "   \n",
    "    \n",
    "    return X_train, X_valid"
   ]
  },
  {
   "cell_type": "code",
   "execution_count": 14,
   "metadata": {},
   "outputs": [],
   "source": [
    "X_train, X_valid = load_data(Gray2RGB= True, mean_proc=False, img_size=224, test_data = True)"
   ]
  },
  {
   "cell_type": "code",
   "execution_count": 15,
   "metadata": {},
   "outputs": [],
   "source": [
    "\n",
    "# one hot encoding\n",
    "y_train = tf.keras.utils.to_categorical(y_train, num_classes)  #  num_classes: 總類別數\n",
    "y_valid = tf.keras.utils.to_categorical(y_valid, num_classes)"
   ]
  },
  {
   "cell_type": "code",
   "execution_count": 16,
   "metadata": {},
   "outputs": [
    {
     "name": "stdout",
     "output_type": "stream",
     "text": [
      "(484, 224, 224, 3)\n",
      "(484, 5)\n",
      "(54, 224, 224, 3)\n",
      "(54, 5)\n"
     ]
    }
   ],
   "source": [
    "print(X_train.shape)\n",
    "print(y_train.shape)\n",
    "print(X_valid.shape)\n",
    "print(y_valid.shape)"
   ]
  },
  {
   "cell_type": "code",
   "execution_count": 17,
   "metadata": {},
   "outputs": [
    {
     "name": "stdout",
     "output_type": "stream",
     "text": [
      "_________________________________________________________________\n",
      "Layer (type)                 Output Shape              Param #   \n",
      "=================================================================\n",
      "conv2d (Conv2D)              (None, 224, 224, 64)      1792      \n",
      "_________________________________________________________________\n",
      "batch_normalization (BatchNo (None, 224, 224, 64)      256       \n",
      "_________________________________________________________________\n",
      "activation (Activation)      (None, 224, 224, 64)      0         \n",
      "_________________________________________________________________\n",
      "max_pooling2d (MaxPooling2D) (None, 112, 112, 64)      0         \n",
      "_________________________________________________________________\n",
      "conv2d_1 (Conv2D)            (None, 112, 112, 128)     73856     \n",
      "_________________________________________________________________\n",
      "batch_normalization_1 (Batch (None, 112, 112, 128)     512       \n",
      "_________________________________________________________________\n",
      "activation_1 (Activation)    (None, 112, 112, 128)     0         \n",
      "_________________________________________________________________\n",
      "max_pooling2d_1 (MaxPooling2 (None, 56, 56, 128)       0         \n",
      "_________________________________________________________________\n",
      "conv2d_2 (Conv2D)            (None, 56, 56, 256)       295168    \n",
      "_________________________________________________________________\n",
      "batch_normalization_2 (Batch (None, 56, 56, 256)       1024      \n",
      "_________________________________________________________________\n",
      "activation_2 (Activation)    (None, 56, 56, 256)       0         \n",
      "_________________________________________________________________\n",
      "max_pooling2d_2 (MaxPooling2 (None, 28, 28, 256)       0         \n",
      "_________________________________________________________________\n",
      "conv2d_3 (Conv2D)            (None, 28, 28, 512)       1180160   \n",
      "_________________________________________________________________\n",
      "batch_normalization_3 (Batch (None, 28, 28, 512)       2048      \n",
      "_________________________________________________________________\n",
      "activation_3 (Activation)    (None, 28, 28, 512)       0         \n",
      "_________________________________________________________________\n",
      "max_pooling2d_3 (MaxPooling2 (None, 14, 14, 512)       0         \n",
      "_________________________________________________________________\n",
      "conv2d_4 (Conv2D)            (None, 14, 14, 512)       2359808   \n",
      "_________________________________________________________________\n",
      "batch_normalization_4 (Batch (None, 14, 14, 512)       2048      \n",
      "_________________________________________________________________\n",
      "activation_4 (Activation)    (None, 14, 14, 512)       0         \n",
      "_________________________________________________________________\n",
      "max_pooling2d_4 (MaxPooling2 (None, 7, 7, 512)         0         \n",
      "_________________________________________________________________\n",
      "flatten (Flatten)            (None, 25088)             0         \n",
      "_________________________________________________________________\n",
      "dense (Dense)                (None, 128)               3211392   \n",
      "_________________________________________________________________\n",
      "batch_normalization_5 (Batch (None, 128)               512       \n",
      "_________________________________________________________________\n",
      "activation_5 (Activation)    (None, 128)               0         \n",
      "_________________________________________________________________\n",
      "dense_1 (Dense)              (None, 5)                 645       \n",
      "_________________________________________________________________\n",
      "batch_normalization_6 (Batch (None, 5)                 20        \n",
      "_________________________________________________________________\n",
      "activation_6 (Activation)    (None, 5)                 0         \n",
      "=================================================================\n",
      "Total params: 7,129,241\n",
      "Trainable params: 7,126,031\n",
      "Non-trainable params: 3,210\n",
      "_________________________________________________________________\n",
      "None\n"
     ]
    }
   ],
   "source": [
    "# a classic CNN model\n",
    "model_name = 'classic_CNN'\n",
    "# The Sequential model is a linear stack of layers.\n",
    "# A linear stack is a model without any branching. \n",
    "# Every layer has one input and output. The output of one layer is the input of the layer below it.\n",
    "model = Sequential()\n",
    "# keras.layers.Conv2D(filters, kernel_size, strides=(1, 1), padding='valid', data_format=None, dilation_rate=(1, 1),\n",
    "# activation=None, use_bias=True, kernel_initializer='glorot_uniform', bias_initializer='zeros', \n",
    "# kernel_regularizer=None, bias_regularizer=None, activity_regularizer=None, kernel_constraint=None, bias_constraint=None)\n",
    "model.add(Conv2D(64, (3, 3), padding='same', input_shape=X_train.shape[1:]))\n",
    "model.add(BatchNormalization())\n",
    "model.add(Activation(activation='relu'))\n",
    "model.add(MaxPooling2D((2, 2)))\n",
    "\n",
    "model.add(Conv2D(128, (3, 3), padding='same'))\n",
    "model.add(BatchNormalization())\n",
    "model.add(Activation(activation='relu'))\n",
    "model.add(MaxPooling2D((2, 2)))\n",
    "\n",
    "model.add(Conv2D(256, (3, 3), padding='same', activation='relu'))\n",
    "model.add(BatchNormalization())\n",
    "model.add(Activation(activation='relu'))\n",
    "model.add(MaxPooling2D((2, 2)))\n",
    "\n",
    "model.add(Conv2D(512, (3, 3), padding='same', activation='relu'))\n",
    "model.add(BatchNormalization())\n",
    "model.add(Activation(activation='relu'))\n",
    "model.add(MaxPooling2D((2, 2)))\n",
    "\n",
    "model.add(Conv2D(512, (3, 3), padding='same', activation='relu'))\n",
    "model.add(BatchNormalization())\n",
    "model.add(Activation(activation='relu'))\n",
    "model.add(MaxPooling2D((2, 2)))\n",
    "\n",
    "model.add(Flatten())\n",
    "\n",
    "model.add(Dense(128))\n",
    "model.add(BatchNormalization())\n",
    "model.add(Activation(activation='relu'))\n",
    "\n",
    "model.add(Dense(num_classes))\n",
    "model.add(BatchNormalization())\n",
    "model.add(Activation(activation='softmax'))\n",
    "\n",
    "print(model.summary())"
   ]
  },
  {
   "cell_type": "code",
   "execution_count": 18,
   "metadata": {},
   "outputs": [],
   "source": [
    "path = 'saved_models'\n",
    "if not os.path.exists('saved_models'):\n",
    "    os.mkdir('saved_models')"
   ]
  },
  {
   "cell_type": "markdown",
   "metadata": {},
   "source": [
    "# Fit model with data augmentation"
   ]
  },
  {
   "cell_type": "code",
   "execution_count": 19,
   "metadata": {},
   "outputs": [
    {
     "name": "stdout",
     "output_type": "stream",
     "text": [
      "Epoch 1/200\n",
      "29/30 [============================>.] - ETA: 0s - loss: 1.8032 - acc: 0.2457\n",
      "Epoch 00001: val_loss improved from inf to 1.63440, saving model to ./saved_models/classic_CNN.h5\n",
      "30/30 [==============================] - 8s 277ms/step - loss: 1.7961 - acc: 0.2477 - val_loss: 1.6344 - val_acc: 0.2778\n",
      "Epoch 2/200\n",
      "29/30 [============================>.] - ETA: 0s - loss: 1.6515 - acc: 0.2974\n",
      "Epoch 00002: val_loss did not improve from 1.63440\n",
      "30/30 [==============================] - 4s 118ms/step - loss: 1.6469 - acc: 0.3002 - val_loss: 1.7006 - val_acc: 0.1667\n",
      "Epoch 3/200\n",
      "29/30 [============================>.] - ETA: 0s - loss: 1.5348 - acc: 0.3513\n",
      "Epoch 00003: val_loss did not improve from 1.63440\n",
      "30/30 [==============================] - 4s 122ms/step - loss: 1.5350 - acc: 0.3521 - val_loss: 1.7715 - val_acc: 0.1667\n",
      "Epoch 4/200\n",
      "29/30 [============================>.] - ETA: 0s - loss: 1.5123 - acc: 0.3513\n",
      "Epoch 00004: val_loss did not improve from 1.63440\n",
      "30/30 [==============================] - 3s 113ms/step - loss: 1.5071 - acc: 0.3504 - val_loss: 1.8540 - val_acc: 0.1667\n",
      "Epoch 5/200\n",
      "29/30 [============================>.] - ETA: 0s - loss: 1.4371 - acc: 0.4073\n",
      "Epoch 00005: val_loss did not improve from 1.63440\n",
      "30/30 [==============================] - 4s 120ms/step - loss: 1.4581 - acc: 0.3955 - val_loss: 1.9202 - val_acc: 0.1667\n",
      "Epoch 6/200\n",
      "29/30 [============================>.] - ETA: 0s - loss: 1.4382 - acc: 0.3836\n",
      "Epoch 00006: val_loss did not improve from 1.63440\n",
      "30/30 [==============================] - 4s 119ms/step - loss: 1.4366 - acc: 0.3897 - val_loss: 1.9179 - val_acc: 0.1667\n",
      "Epoch 7/200\n",
      "29/30 [============================>.] - ETA: 0s - loss: 1.4294 - acc: 0.3621\n",
      "Epoch 00007: val_loss did not improve from 1.63440\n",
      "30/30 [==============================] - 3s 116ms/step - loss: 1.4284 - acc: 0.3649 - val_loss: 1.9185 - val_acc: 0.1667\n",
      "Epoch 8/200\n",
      "29/30 [============================>.] - ETA: 0s - loss: 1.3432 - acc: 0.4440\n",
      "Epoch 00008: val_loss did not improve from 1.63440\n",
      "30/30 [==============================] - 4s 122ms/step - loss: 1.3481 - acc: 0.4396 - val_loss: 1.9362 - val_acc: 0.1667\n",
      "Epoch 9/200\n",
      "29/30 [============================>.] - ETA: 0s - loss: 1.3192 - acc: 0.4612\n",
      "Epoch 00009: val_loss did not improve from 1.63440\n",
      "30/30 [==============================] - 3s 114ms/step - loss: 1.3172 - acc: 0.4622 - val_loss: 1.9608 - val_acc: 0.1667\n",
      "Epoch 10/200\n",
      "29/30 [============================>.] - ETA: 0s - loss: 1.3003 - acc: 0.4569\n",
      "Epoch 00010: val_loss did not improve from 1.63440\n",
      "30/30 [==============================] - 4s 117ms/step - loss: 1.2999 - acc: 0.4583 - val_loss: 1.9492 - val_acc: 0.1667\n",
      "Epoch 11/200\n",
      "29/30 [============================>.] - ETA: 0s - loss: 1.2975 - acc: 0.4440\n",
      "Epoch 00011: val_loss did not improve from 1.63440\n",
      "30/30 [==============================] - 4s 123ms/step - loss: 1.2996 - acc: 0.4458 - val_loss: 1.9320 - val_acc: 0.1667\n",
      "Epoch 00011: early stopping\n"
     ]
    }
   ],
   "source": [
    "# Data generator with augmentation\n",
    "## 定義一個產生器，在每看一個batch時，做資料增強，再fit model，實務上這樣做 model 可以看到更多樣的變化，\n",
    "# 當然如果用事先資料增強的方法，當增強數據越多，結果也會越接近 realtime data augmentation，但儲存空間龐大\n",
    "datagen = ImageDataGenerator(\n",
    "    rotation_range=10,        # randomly rotate images in the range (degrees, 0 to 180)\n",
    "    width_shift_range=0.2,    # randomly shift images horizontally (fraction of total width)\n",
    "    height_shift_range=0.2,   # randomly shift images vertically (fraction of total height)\n",
    "    shear_range=0.2,          \n",
    "    zoom_range=0.2,\n",
    "    horizontal_flip=True,     # randomly flip images\n",
    "    fill_mode='constant',    # 输入边界以外的点根据给定的模式填充：'constant': kkkkk|abcd|kkkkk (cval=k)\n",
    "    cval=0)                  #                                  'nearest': aaaaaaaa|abcd|dddddddd'\n",
    "                             #                                  'reflect': abcddcba|abcd|dcbaabcd'wrap'\n",
    "                             #                                  'wrap': abcdabcd|abcd|abcdabcd\n",
    "    \n",
    "\n",
    "optimizer = keras.optimizers.Adam(lr=10e-6)\n",
    "# model 存檔的路徑\n",
    "model_path = './saved_models/{}.h5'.format(model_name)\n",
    "# 定義要 training 的時候需要記錄下來的結果\n",
    "# monitor : 要監控的變數\n",
    "checkpoint = ModelCheckpoint(model_path, monitor='val_loss', save_best_only=True, verbose=1)\n",
    "# 定義 Early stopping 的函數\n",
    "earlystop = EarlyStopping(monitor='val_loss', patience=10, verbose=1)\n",
    "\n",
    "model.compile(loss='categorical_crossentropy',\n",
    "              optimizer=optimizer, metrics=['accuracy'])\n",
    "# Fit the model on the batches generated by datagen.flow().\n",
    "batch_size = 16\n",
    "aug_ratio = 1\n",
    "epochs = 200\n",
    "steps_per_epoch = int(aug_ratio * X_train.shape[0] / batch_size)\n",
    "validation_steps = int(aug_ratio * X_valid.shape[0] / batch_size)\n",
    "# 隨機從每一個 epoch當中抽出圖片做資料增強，然後才吐出 batch 的數量 fit model，但每一個 epoch 的數量不會改變喔\n",
    "model_history = model.fit_generator(datagen.flow(X_train, y_train, batch_size = batch_size),\n",
    "                                    epochs = epochs,\n",
    "                                    validation_data = (X_valid, y_valid),\n",
    "                                    callbacks = [checkpoint, earlystop],\n",
    "                                    steps_per_epoch=steps_per_epoch,\n",
    "                                    validation_steps=validation_steps)"
   ]
  },
  {
   "cell_type": "code",
   "execution_count": 20,
   "metadata": {},
   "outputs": [
    {
     "data": {
      "image/png": "[encoded data removed]",
      "text/plain": [
       "<Figure size 432x288 with 1 Axes>"
      ]
     },
     "metadata": {
      "needs_background": "light"
     },
     "output_type": "display_data"
    }
   ],
   "source": [
    "training_loss = model_history.history['loss']\n",
    "val_loss = model_history.history['val_loss']\n",
    "\n",
    "plt.plot(training_loss, label=\"training_loss\")\n",
    "plt.plot(val_loss, label=\"validation_loss\")\n",
    "plt.xlabel(\"Epochs\")\n",
    "plt.ylabel(\"Loss\")\n",
    "plt.title(\"Learning Curve\")\n",
    "plt.legend(loc='best')\n",
    "plt.show()"
   ]
  },
  {
   "cell_type": "code",
   "execution_count": 21,
   "metadata": {},
   "outputs": [
    {
     "data": {
      "image/png": "[encoded data removed]",
      "text/plain": [
       "<Figure size 432x288 with 1 Axes>"
      ]
     },
     "metadata": {
      "needs_background": "light"
     },
     "output_type": "display_data"
    }
   ],
   "source": [
    "training_acc = model_history.history['acc']\n",
    "val_acc = model_history.history['val_acc']\n",
    "\n",
    "plt.plot(training_acc, label=\"training_acc\")\n",
    "plt.plot(val_acc, label=\"validation_acc\")\n",
    "plt.xlabel(\"Epochs\")\n",
    "plt.ylabel(\"Acc\")\n",
    "plt.title(\"Learning Curve\")\n",
    "plt.legend(loc='best')\n",
    "plt.show()"
   ]
  },
  {
   "cell_type": "markdown",
   "metadata": {},
   "source": [
    "# Testing Data"
   ]
  },
  {
   "cell_type": "code",
   "execution_count": 22,
   "metadata": {},
   "outputs": [],
   "source": [
    "# 指定存放 test 資料集的資料夾\n",
    "testset_dir =\"./testing_set\"\n",
    "testset_list = []\n",
    "test_id_list = []\n",
    "\n",
    "for img_path in glob('{}/*.png'.format(testset_dir)):\n",
    "    testset_list.append(img_path)\n",
    "    id = img_path.split('/')[-1].split('.')[0]  # -1 表示圖片路徑的最後一個 part，也就是圖片名，由於圖片名有加副檔名，\n",
    "    test_id_list.append(id)                     # 所以用 '.' 做切割，取第0個\n",
    "testset_df = pd.DataFrame({'id': test_id_list, 'path': testset_list}).sort_values(by='id')"
   ]
  },
  {
   "cell_type": "code",
   "execution_count": 23,
   "metadata": {},
   "outputs": [
    {
     "name": "stdout",
     "output_type": "stream",
     "text": [
      "\n",
      "Some testing samples:\n",
      "------------------------\n",
      "             id                          path\n",
      "117  006F8606F6  ./testing_set/006F8606F6.png\n",
      "85   00C22FC0EA  ./testing_set/00C22FC0EA.png\n",
      "307  00CECD2708  ./testing_set/00CECD2708.png\n",
      "246  0125D1C6C3  ./testing_set/0125D1C6C3.png\n",
      "127  0158CDF991  ./testing_set/0158CDF991.png\n",
      "\n",
      "complete path samples:\n",
      "------------------------\n",
      "./testing_set/86B9F51B85.png\n"
     ]
    }
   ],
   "source": [
    "print('\\nSome testing samples:\\n------------------------')\n",
    "print(testset_df.head())\n",
    "print('\\ncomplete path samples:\\n------------------------')\n",
    "print(testset_df['path'][0])"
   ]
  },
  {
   "cell_type": "code",
   "execution_count": 24,
   "metadata": {},
   "outputs": [],
   "source": [
    "def load_test_data(Gray2RGB=False, mean_proc=False, img_size=img_size):\n",
    "    img_path_list = []\n",
    "    #找出 rest data 的路徑\n",
    "    for img_path in glob('{}/*.png'.format(testset_dir)):\n",
    "        img_path_list.append(img_path)\n",
    "        \n",
    "    X_test = []\n",
    "    X_id = []\n",
    "    for path in img_path_list:\n",
    "        img = cv2.imread(path, 0)\n",
    "        img = cv2.resize(img, (img_size, img_size))\n",
    "        \n",
    "        if Gray2RGB == True:\n",
    "            img = cv2.cvtColor(img,cv2.COLOR_GRAY2RGB)\n",
    "        img = img.astype(np.float32)\n",
    "\n",
    "        if mean_proc == 'VGG16_ImageNet':\n",
    "            img = img - np.array([123.68, 116.779, 103.939])\n",
    "            img = img[:,:,::-1]  # RGB to BGR\n",
    "            img = (img - np.min(img)) / np.max(img)\n",
    "        if mean_proc == 'DenseNet':\n",
    "            img /= 255.\n",
    "            mean = [0.485, 0.456, 0.406]\n",
    "            std = [0.229, 0.224, 0.225]\n",
    "            img = (img - mean) / std\n",
    "        else:\n",
    "            img /= 255.\n",
    "            img -= 0.5\n",
    "            img *= 2.\n",
    "            \n",
    "        img_id = path.split('/')[-1].split('.')[0]\n",
    "        X_test.append(img)\n",
    "        X_id.append(img_id)\n",
    "        \n",
    "    X_test = np.array(X_test, dtype=np.float32)\n",
    "    \n",
    "    if Gray2RGB == False:\n",
    "        X_test = np.reshape(X_test, X_test.shape+(1,))\n",
    "    \n",
    "    return X_test, X_id"
   ]
  },
  {
   "cell_type": "code",
   "execution_count": 25,
   "metadata": {},
   "outputs": [
    {
     "name": "stdout",
     "output_type": "stream",
     "text": [
      "54/54 [==============================] - 1s 12ms/step\n",
      "Validation loss: 1.6344003544913397\n",
      "Validation accuracy: 0.27777778053725205\n"
     ]
    }
   ],
   "source": [
    "X_test, X_id = load_test_data(Gray2RGB=True, mean_proc=None)\n",
    "\n",
    "model_path = './saved_models/{}.h5'.format(model_name)\n",
    "model = load_model(model_path)\n",
    "\n",
    "scores = model.evaluate(X_valid, y_valid, verbose=1)\n",
    "print('Validation loss:', scores[0])\n",
    "print('Validation accuracy:', scores[1])\n",
    "\n",
    "y_test_pred = model.predict_classes(X_test)\n",
    "y_test_pred_df = pd.DataFrame({'id': np.array(X_id), 'class':y_test_pred}).sort_values(by='id')\n",
    "y_test_pred_df.to_csv('./{}.csv'.format(model_name), index=False)"
   ]
  },
  {
   "cell_type": "markdown",
   "metadata": {},
   "source": [
    "# 重起 kernel 後，load 模型，省去之前訓練模型的部分，最後加上以下的code"
   ]
  },
  {
   "cell_type": "code",
   "execution_count": 26,
   "metadata": {},
   "outputs": [],
   "source": [
    "another_model = tf.keras.models.load_model('./saved_models/classic_CNN.h5')"
   ]
  },
  {
   "cell_type": "code",
   "execution_count": 27,
   "metadata": {},
   "outputs": [
    {
     "data": {
      "text/html": [
       "<div>\n",
       "<style scoped>\n",
       "    .dataframe tbody tr th:only-of-type {\n",
       "        vertical-align: middle;\n",
       "    }\n",
       "\n",
       "    .dataframe tbody tr th {\n",
       "        vertical-align: top;\n",
       "    }\n",
       "\n",
       "    .dataframe thead th {\n",
       "        text-align: right;\n",
       "    }\n",
       "</style>\n",
       "<table border=\"1\" class=\"dataframe\">\n",
       "  <thead>\n",
       "    <tr style=\"text-align: right;\">\n",
       "      <th></th>\n",
       "      <th>id</th>\n",
       "      <th>class</th>\n",
       "    </tr>\n",
       "  </thead>\n",
       "  <tbody>\n",
       "    <tr>\n",
       "      <th>117</th>\n",
       "      <td>006F8606F6</td>\n",
       "      <td>0</td>\n",
       "    </tr>\n",
       "    <tr>\n",
       "      <th>85</th>\n",
       "      <td>00C22FC0EA</td>\n",
       "      <td>0</td>\n",
       "    </tr>\n",
       "    <tr>\n",
       "      <th>307</th>\n",
       "      <td>00CECD2708</td>\n",
       "      <td>0</td>\n",
       "    </tr>\n",
       "    <tr>\n",
       "      <th>246</th>\n",
       "      <td>0125D1C6C3</td>\n",
       "      <td>0</td>\n",
       "    </tr>\n",
       "    <tr>\n",
       "      <th>127</th>\n",
       "      <td>0158CDF991</td>\n",
       "      <td>0</td>\n",
       "    </tr>\n",
       "  </tbody>\n",
       "</table>\n",
       "</div>"
      ],
      "text/plain": [
       "             id  class\n",
       "117  006F8606F6      0\n",
       "85   00C22FC0EA      0\n",
       "307  00CECD2708      0\n",
       "246  0125D1C6C3      0\n",
       "127  0158CDF991      0"
      ]
     },
     "execution_count": 27,
     "metadata": {},
     "output_type": "execute_result"
    }
   ],
   "source": [
    "X_test, X_id = load_test_data(Gray2RGB=True, mean_proc=None)\n",
    "y_test_pred = another_model.predict_classes(X_test)\n",
    "y_test_pred_df = pd.DataFrame({'id': np.array(X_id), 'class':y_test_pred}).sort_values(by='id')\n",
    "y_test_pred_df.head()"
   ]
  },
  {
   "cell_type": "markdown",
   "metadata": {},
   "source": [
    "# 將 model 加上 Global Average Pooling"
   ]
  },
  {
   "cell_type": "markdown",
   "metadata": {},
   "source": [
    "將最後面的全連接層替代成將各自的featuremap數值加總，在做平均，當作output"
   ]
  },
  {
   "cell_type": "code",
   "execution_count": 28,
   "metadata": {},
   "outputs": [],
   "source": [
    "# a classic CNN model\n",
    "model_name = 'classic_CNN_GlobalAveragePooling2D'\n",
    "model = Sequential()\n",
    "\n",
    "model.add(Conv2D(64, (3, 3), padding='same', input_shape=X_train.shape[1:]))\n",
    "model.add(BatchNormalization())\n",
    "model.add(Activation(activation='relu'))\n",
    "model.add(MaxPooling2D((2, 2)))\n",
    "\n",
    "model.add(Conv2D(128, (3, 3), padding='same'))\n",
    "model.add(BatchNormalization())\n",
    "model.add(Activation(activation='relu'))\n",
    "model.add(MaxPooling2D((2, 2)))\n",
    "\n",
    "model.add(Conv2D(256, (3, 3), padding='same', activation='relu'))\n",
    "model.add(BatchNormalization())\n",
    "model.add(Activation(activation='relu'))\n",
    "model.add(MaxPooling2D((2, 2)))\n",
    "\n",
    "model.add(Conv2D(512, (3, 3), padding='same', activation='relu'))\n",
    "model.add(BatchNormalization())\n",
    "model.add(Activation(activation='relu'))\n",
    "model.add(MaxPooling2D((2, 2)))\n",
    "\n",
    "model.add(Conv2D(512, (3, 3), padding='same', activation='relu'))\n",
    "model.add(BatchNormalization())\n",
    "model.add(Activation(activation='relu'))\n",
    "model.add(MaxPooling2D((2, 2)))\n",
    "# 用 GlobalAveragePooling2D() 取代 Flatten()\n",
    "model.add(GlobalAveragePooling2D())\n",
    "\n",
    "model.add(Dense(128))\n",
    "model.add(BatchNormalization())\n",
    "model.add(Activation(activation='relu'))\n",
    "\n",
    "model.add(Dense(num_classes))\n",
    "model.add(BatchNormalization())\n",
    "model.add(Activation(activation='softmax'))"
   ]
  },
  {
   "cell_type": "code",
   "execution_count": 33,
   "metadata": {},
   "outputs": [
    {
     "name": "stdout",
     "output_type": "stream",
     "text": [
      "Epoch 1/200\n",
      "29/30 [============================>.] - ETA: 0s - loss: 1.4222 - acc: 0.4030\n",
      "Epoch 00001: val_loss improved from inf to 1.60644, saving model to ./saved_models/classic_CNN_GlobalAveragePooling2D.h5\n",
      "30/30 [==============================] - 8s 263ms/step - loss: 1.4229 - acc: 0.4001 - val_loss: 1.6064 - val_acc: 0.2778\n",
      "Epoch 2/200\n",
      "29/30 [============================>.] - ETA: 0s - loss: 1.3659 - acc: 0.4483\n",
      "Epoch 00002: val_loss did not improve from 1.60644\n",
      "30/30 [==============================] - 4s 120ms/step - loss: 1.3607 - acc: 0.4483 - val_loss: 1.6202 - val_acc: 0.2778\n",
      "Epoch 3/200\n",
      "29/30 [============================>.] - ETA: 0s - loss: 1.2937 - acc: 0.4677\n",
      "Epoch 00003: val_loss did not improve from 1.60644\n",
      "30/30 [==============================] - 4s 117ms/step - loss: 1.2931 - acc: 0.4643 - val_loss: 1.6376 - val_acc: 0.2778\n",
      "Epoch 4/200\n",
      "29/30 [============================>.] - ETA: 0s - loss: 1.2202 - acc: 0.5000\n",
      "Epoch 00004: val_loss did not improve from 1.60644\n",
      "30/30 [==============================] - 4s 118ms/step - loss: 1.2186 - acc: 0.4998 - val_loss: 1.6498 - val_acc: 0.2778\n",
      "Epoch 5/200\n",
      "28/30 [===========================>..] - ETA: 0s - loss: 1.1662 - acc: 0.5402\n",
      "Epoch 00005: val_loss did not improve from 1.60644\n",
      "30/30 [==============================] - 4s 117ms/step - loss: 1.1736 - acc: 0.5334 - val_loss: 1.6616 - val_acc: 0.2778\n",
      "Epoch 6/200\n",
      "29/30 [============================>.] - ETA: 0s - loss: 1.2070 - acc: 0.5237\n",
      "Epoch 00006: val_loss did not improve from 1.60644\n",
      "30/30 [==============================] - 4s 120ms/step - loss: 1.2047 - acc: 0.5271 - val_loss: 1.6773 - val_acc: 0.2778\n",
      "Epoch 7/200\n",
      "29/30 [============================>.] - ETA: 0s - loss: 1.1211 - acc: 0.5647\n",
      "Epoch 00007: val_loss did not improve from 1.60644\n",
      "30/30 [==============================] - 3s 114ms/step - loss: 1.1183 - acc: 0.5668 - val_loss: 1.7057 - val_acc: 0.1667\n",
      "Epoch 8/200\n",
      "29/30 [============================>.] - ETA: 0s - loss: 1.1918 - acc: 0.5043\n",
      "Epoch 00008: val_loss did not improve from 1.60644\n",
      "30/30 [==============================] - 4s 117ms/step - loss: 1.1916 - acc: 0.5042 - val_loss: 1.7409 - val_acc: 0.1667\n",
      "Epoch 9/200\n",
      "29/30 [============================>.] - ETA: 0s - loss: 1.1173 - acc: 0.5625\n",
      "Epoch 00009: val_loss did not improve from 1.60644\n",
      "30/30 [==============================] - 4s 117ms/step - loss: 1.1332 - acc: 0.5567 - val_loss: 1.7902 - val_acc: 0.1667\n",
      "Epoch 10/200\n",
      "29/30 [============================>.] - ETA: 0s - loss: 1.1676 - acc: 0.5280\n",
      "Epoch 00010: val_loss did not improve from 1.60644\n",
      "30/30 [==============================] - 3s 115ms/step - loss: 1.1757 - acc: 0.5254 - val_loss: 1.8411 - val_acc: 0.1667\n",
      "Epoch 11/200\n",
      "29/30 [============================>.] - ETA: 0s - loss: 1.0990 - acc: 0.5647\n",
      "Epoch 00011: val_loss did not improve from 1.60644\n",
      "30/30 [==============================] - 4s 120ms/step - loss: 1.1027 - acc: 0.5565 - val_loss: 1.8773 - val_acc: 0.1667\n",
      "Epoch 00011: early stopping\n"
     ]
    }
   ],
   "source": [
    "# Data generator with augmentation\n",
    "datagen = ImageDataGenerator(\n",
    "    rotation_range=10,\n",
    "    width_shift_range=0.2,\n",
    "    height_shift_range=0.2,\n",
    "    shear_range=0.2,\n",
    "    zoom_range=0.2,\n",
    "    horizontal_flip=True,\n",
    "    fill_mode='constant',\n",
    "    cval=0)\n",
    "\n",
    "optimizer = keras.optimizers.Adam(lr=10e-6)\n",
    "\n",
    "model_path = './saved_models/{}.h5'.format(model_name)\n",
    "checkpoint = ModelCheckpoint(model_path, monitor='val_loss', save_best_only=True, verbose=1)\n",
    "earlystop = EarlyStopping(monitor='val_loss', patience=10, verbose=1)\n",
    "\n",
    "model.compile(loss='categorical_crossentropy',\n",
    "              optimizer=optimizer, metrics=['accuracy'])\n",
    "# Fit the model on the batches generated by datagen.flow().\n",
    "batch_size = 16\n",
    "aug_ratio = 1\n",
    "epochs = 200\n",
    "steps_per_epoch = int(aug_ratio * X_train.shape[0] / batch_size)\n",
    "validation_steps = int(aug_ratio * X_valid.shape[0] / batch_size)\n",
    "model_history = model.fit_generator(datagen.flow(X_train, y_train, batch_size = batch_size),\n",
    "                                    epochs = epochs,\n",
    "                                    validation_data = (X_valid, y_valid),\n",
    "                                    callbacks = [checkpoint, earlystop],\n",
    "                                    steps_per_epoch=steps_per_epoch,\n",
    "                                    validation_steps=validation_steps)"
   ]
  },
  {
   "cell_type": "code",
   "execution_count": 34,
   "metadata": {},
   "outputs": [
    {
     "data": {
      "image/png": "[encoded data removed]",
      "text/plain": [
       "<Figure size 432x288 with 1 Axes>"
      ]
     },
     "metadata": {
      "needs_background": "light"
     },
     "output_type": "display_data"
    }
   ],
   "source": [
    "training_loss = model_history.history['loss']\n",
    "val_loss = model_history.history['val_loss']\n",
    "\n",
    "plt.plot(training_loss, label=\"training_loss\")\n",
    "plt.plot(val_loss, label=\"validation_loss\")\n",
    "plt.xlabel(\"Epochs\")\n",
    "plt.ylabel(\"Loss\")\n",
    "plt.title(\"Learning Curve\")\n",
    "plt.legend(loc='best')\n",
    "plt.show()"
   ]
  },
  {
   "cell_type": "code",
   "execution_count": 35,
   "metadata": {},
   "outputs": [
    {
     "data": {
      "image/png": "[encoded data removed]",
      "text/plain": [
       "<Figure size 432x288 with 1 Axes>"
      ]
     },
     "metadata": {
      "needs_background": "light"
     },
     "output_type": "display_data"
    }
   ],
   "source": [
    "training_acc = model_history.history['acc']\n",
    "val_acc = model_history.history['val_acc']\n",
    "\n",
    "plt.plot(training_acc, label=\"training_acc\")\n",
    "plt.plot(val_acc, label=\"validation_acc\")\n",
    "plt.xlabel(\"Epochs\")\n",
    "plt.ylabel(\"Acc\")\n",
    "plt.title(\"Learning Curve\")\n",
    "plt.legend(loc='best')\n",
    "plt.show()"
   ]
  },
  {
   "cell_type": "code",
   "execution_count": 37,
   "metadata": {},
   "outputs": [
    {
     "name": "stdout",
     "output_type": "stream",
     "text": [
      "54/54 [==============================] - 1s 12ms/step\n",
      "Validation loss: 1.6064403586917453\n",
      "Validation accuracy: 0.27777778053725205\n"
     ]
    }
   ],
   "source": [
    "X_test, X_id = load_test_data(Gray2RGB=True, mean_proc=None)\n",
    "\n",
    "model_path = './saved_models/{}.h5'.format(model_name)\n",
    "model = load_model(model_path)\n",
    "\n",
    "scores = model.evaluate(X_valid, y_valid, verbose=1)\n",
    "print('Validation loss:', scores[0])\n",
    "print('Validation accuracy:', scores[1])\n",
    "\n",
    "y_test_pred = model.predict_classes(X_test)\n",
    "y_test_pred_df = pd.DataFrame({'id': np.array(X_id), 'class':y_test_pred}).sort_values(by='id')\n",
    "y_test_pred_df.to_csv('./{}.csv'.format(model_name), index=False)"
   ]
  },
  {
   "cell_type": "code",
   "execution_count": null,
   "metadata": {},
   "outputs": [],
   "source": []
  },
  {
   "cell_type": "code",
   "execution_count": null,
   "metadata": {},
   "outputs": [],
   "source": []
  },
  {
   "cell_type": "code",
   "execution_count": null,
   "metadata": {},
   "outputs": [],
   "source": []
  },
  {
   "cell_type": "code",
   "execution_count": null,
   "metadata": {},
   "outputs": [],
   "source": []
  },
  {
   "cell_type": "code",
   "execution_count": null,
   "metadata": {},
   "outputs": [],
   "source": []
  },
  {
   "cell_type": "code",
   "execution_count": null,
   "metadata": {},
   "outputs": [],
   "source": []
  },
  {
   "cell_type": "code",
   "execution_count": null,
   "metadata": {},
   "outputs": [],
   "source": []
  },
  {
   "cell_type": "code",
   "execution_count": null,
   "metadata": {},
   "outputs": [],
   "source": []
  },
  {
   "cell_type": "code",
   "execution_count": null,
   "metadata": {},
   "outputs": [],
   "source": []
  },
  {
   "cell_type": "code",
   "execution_count": null,
   "metadata": {},
   "outputs": [],
   "source": []
  },
  {
   "cell_type": "code",
   "execution_count": null,
   "metadata": {},
   "outputs": [],
   "source": []
  },
  {
   "cell_type": "code",
   "execution_count": null,
   "metadata": {},
   "outputs": [],
   "source": []
  },
  {
   "cell_type": "code",
   "execution_count": null,
   "metadata": {},
   "outputs": [],
   "source": []
  },
  {
   "cell_type": "code",
   "execution_count": null,
   "metadata": {},
   "outputs": [],
   "source": []
  },
  {
   "cell_type": "code",
   "execution_count": null,
   "metadata": {},
   "outputs": [],
   "source": []
  },
  {
   "cell_type": "code",
   "execution_count": null,
   "metadata": {},
   "outputs": [],
   "source": []
  },
  {
   "cell_type": "code",
   "execution_count": null,
   "metadata": {},
   "outputs": [],
   "source": []
  },
  {
   "cell_type": "code",
   "execution_count": null,
   "metadata": {},
   "outputs": [],
   "source": []
  },
  {
   "cell_type": "code",
   "execution_count": null,
   "metadata": {},
   "outputs": [],
   "source": []
  }
 ],
 "metadata": {
  "kernelspec": {
   "display_name": "Python 3",
   "language": "python",
   "name": "python3"
  },
  "language_info": {
   "codemirror_mode": {
    "name": "ipython",
    "version": 3
   },
   "file_extension": ".py",
   "mimetype": "text/x-python",
   "name": "python",
   "nbconvert_exporter": "python",
   "pygments_lexer": "ipython3",
   "version": "3.6.6"
  }
 },
 "nbformat": 4,
 "nbformat_minor": 2
}
