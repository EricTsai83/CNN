{
 "cells": [
  {
   "cell_type": "code",
   "execution_count": 1,
   "metadata": {},
   "outputs": [],
   "source": [
    "import warnings\n",
    "warnings.filterwarnings('ignore')\n",
    "\n",
    "from tensorflow.keras.models import load_model\n",
    "from tensorflow.keras import backend as K\n",
    "from glob import glob\n",
    "\n",
    "import os\n",
    "import pandas as pd\n",
    "import numpy as np\n",
    "import cv2"
   ]
  },
  {
   "cell_type": "code",
   "execution_count": 2,
   "metadata": {},
   "outputs": [],
   "source": [
    "ensembling_models = {\n",
    "    'DenseNet201-Fine-Tune': {'img_size': 299, 'mean_proc': 'DenseNet'},\n",
    "    'Xception-Fine-Tune': {'img_size': 299,  'mean_proc': None},\n",
    "    'InceptionResNetV2': {'img_size': 229,  'mean_proc': None}\n",
    "}"
   ]
  },
  {
   "cell_type": "code",
   "execution_count": 3,
   "metadata": {},
   "outputs": [],
   "source": [
    "img_size = 299"
   ]
  },
  {
   "cell_type": "code",
   "execution_count": 4,
   "metadata": {},
   "outputs": [],
   "source": [
    "def load_test_data(Gray2RGB=False, mean_proc=False, img_size=img_size):\n",
    "    img_path_list = []\n",
    "    #找出 rest data 的路徑\n",
    "    for img_path in glob('{}/*.png'.format(testset_dir)):\n",
    "        img_path_list.append(img_path)\n",
    "        \n",
    "    X_test = []\n",
    "    X_id = []\n",
    "    for path in img_path_list:\n",
    "        img = cv2.imread(path, 0)\n",
    "        img = cv2.resize(img, (img_size, img_size))\n",
    "        \n",
    "        if Gray2RGB == True:\n",
    "            img = cv2.cvtColor(img,cv2.COLOR_GRAY2RGB)\n",
    "        img = img.astype(np.float32)\n",
    "\n",
    "        if mean_proc == 'VGG16_ImageNet':\n",
    "            img = img - np.array([123.68, 116.779, 103.939])\n",
    "            img = img[:,:,::-1]  # RGB to BGR\n",
    "            img = (img - np.min(img)) / np.max(img)\n",
    "        if mean_proc == 'DenseNet':\n",
    "            #img /= 255.\n",
    "            img /= 299\n",
    "            mean = [0.485, 0.456, 0.406]\n",
    "            std = [0.229, 0.224, 0.225]\n",
    "            img = (img - mean) / std\n",
    "        else:\n",
    "            #img /= 255.\n",
    "            img /= 299\n",
    "            img -= 0.5\n",
    "            img *= 2.\n",
    "            \n",
    "        img_id = path.split('/')[-1].split('.')[0]\n",
    "        X_test.append(img)\n",
    "        X_id.append(img_id)\n",
    "        \n",
    "    X_test = np.array(X_test, dtype=np.float32)\n",
    "    \n",
    "    if Gray2RGB == False:\n",
    "        X_test = np.reshape(X_test, X_test.shape+(1,))\n",
    "    \n",
    "    return X_test, X_id"
   ]
  },
  {
   "cell_type": "code",
   "execution_count": 5,
   "metadata": {},
   "outputs": [],
   "source": [
    "# 指定存放 test 資料集的資料夾\n",
    "testset_dir =\"./testing_set\"\n",
    "testset_list = []\n",
    "test_id_list = []\n",
    "\n",
    "for img_path in glob('{}/*.png'.format(testset_dir)):\n",
    "    testset_list.append(img_path)\n",
    "    id = img_path.split('/')[-1].split('.')[0]  # -1 表示圖片路徑的最後一個 part，也就是圖片名，由於圖片名有加副檔名，\n",
    "    test_id_list.append(id)                     # 所以用 '.' 做切割，取第0個\n",
    "testset_df = pd.DataFrame({'id': test_id_list, 'path': testset_list}).sort_values(by='id')"
   ]
  },
  {
   "cell_type": "code",
   "execution_count": 6,
   "metadata": {},
   "outputs": [
    {
     "name": "stdout",
     "output_type": "stream",
     "text": [
      "DenseNet201-Fine-Tune\n",
      "Xception-Fine-Tune\n"
     ]
    }
   ],
   "source": [
    "for key in ensembling_models.keys():\n",
    "    print(key)\n",
    "    img_size = ensembling_models[key]['img_size']\n",
    "    mean_proc = ensembling_models[key]['mean_proc']\n",
    "    model = load_model('./saved_models/{}.h5'.format(key))\n",
    "    X_test, X_id = load_test_data(Gray2RGB=True, mean_proc=mean_proc, img_size=img_size)\n",
    "    ensembling_models[key]['y_test_pred_prob'] = model.predict(X_test)"
   ]
  },
  {
   "cell_type": "code",
   "execution_count": 7,
   "metadata": {},
   "outputs": [],
   "source": [
    "num_models = float(len(ensembling_models.keys()))\n",
    "y_test_pred_prob = 0\n",
    "for key in ensembling_models.keys():\n",
    "    y_test_pred_prob += ensembling_models[key]['y_test_pred_prob']\n",
    "\n",
    "y_test_pred_prob /= num_models"
   ]
  },
  {
   "cell_type": "code",
   "execution_count": 8,
   "metadata": {},
   "outputs": [],
   "source": [
    "y_test_pred = y_test_pred_prob.argmax(axis=-1)"
   ]
  },
  {
   "cell_type": "markdown",
   "metadata": {},
   "source": [
    "# load_test_data"
   ]
  },
  {
   "cell_type": "code",
   "execution_count": 9,
   "metadata": {},
   "outputs": [],
   "source": [
    "import numpy as np\n",
    "import pandas as pd\n",
    "#X_test, X_id = load_test_data(Gray2RGB=True, mean_proc='VGG16_ImageNet', img_size=img_size)\n",
    "X_test, X_id = load_test_data(Gray2RGB=True, mean_proc=None, img_size=img_size)\n",
    "y_test_pred_df = pd.DataFrame({'id': np.array(X_id), 'class':y_test_pred}).sort_values(by='id')"
   ]
  },
  {
   "cell_type": "code",
   "execution_count": 10,
   "metadata": {},
   "outputs": [],
   "source": [
    "y_test_pred_df.to_csv('./ensemble.csv', index=False)"
   ]
  },
  {
   "cell_type": "code",
   "execution_count": null,
   "metadata": {},
   "outputs": [],
   "source": []
  },
  {
   "cell_type": "code",
   "execution_count": null,
   "metadata": {},
   "outputs": [],
   "source": []
  },
  {
   "cell_type": "code",
   "execution_count": null,
   "metadata": {},
   "outputs": [],
   "source": []
  },
  {
   "cell_type": "code",
   "execution_count": null,
   "metadata": {},
   "outputs": [],
   "source": []
  },
  {
   "cell_type": "code",
   "execution_count": null,
   "metadata": {},
   "outputs": [],
   "source": []
  },
  {
   "cell_type": "code",
   "execution_count": null,
   "metadata": {},
   "outputs": [],
   "source": []
  },
  {
   "cell_type": "code",
   "execution_count": null,
   "metadata": {},
   "outputs": [],
   "source": []
  },
  {
   "cell_type": "code",
   "execution_count": null,
   "metadata": {},
   "outputs": [],
   "source": []
  },
  {
   "cell_type": "code",
   "execution_count": null,
   "metadata": {},
   "outputs": [],
   "source": []
  },
  {
   "cell_type": "code",
   "execution_count": null,
   "metadata": {},
   "outputs": [],
   "source": []
  },
  {
   "cell_type": "code",
   "execution_count": null,
   "metadata": {},
   "outputs": [],
   "source": []
  },
  {
   "cell_type": "code",
   "execution_count": null,
   "metadata": {},
   "outputs": [],
   "source": []
  },
  {
   "cell_type": "code",
   "execution_count": null,
   "metadata": {},
   "outputs": [],
   "source": []
  },
  {
   "cell_type": "code",
   "execution_count": null,
   "metadata": {},
   "outputs": [],
   "source": []
  },
  {
   "cell_type": "code",
   "execution_count": null,
   "metadata": {},
   "outputs": [],
   "source": []
  },
  {
   "cell_type": "code",
   "execution_count": null,
   "metadata": {},
   "outputs": [],
   "source": []
  },
  {
   "cell_type": "code",
   "execution_count": null,
   "metadata": {},
   "outputs": [],
   "source": []
  },
  {
   "cell_type": "code",
   "execution_count": null,
   "metadata": {},
   "outputs": [],
   "source": []
  },
  {
   "cell_type": "code",
   "execution_count": null,
   "metadata": {},
   "outputs": [],
   "source": []
  }
 ],
 "metadata": {
  "kernelspec": {
   "display_name": "Python 3",
   "language": "python",
   "name": "python3"
  },
  "language_info": {
   "codemirror_mode": {
    "name": "ipython",
    "version": 3
   },
   "file_extension": ".py",
   "mimetype": "text/x-python",
   "name": "python",
   "nbconvert_exporter": "python",
   "pygments_lexer": "ipython3",
   "version": "3.6.6"
  }
 },
 "nbformat": 4,
 "nbformat_minor": 2
}
